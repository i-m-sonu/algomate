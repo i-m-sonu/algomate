{
 "cells": [
  {
   "cell_type": "code",
   "execution_count": null,
   "id": "5838e3c5-eb14-4490-ad7b-a4025d31670f",
   "metadata": {},
   "outputs": [],
   "source": [
    "VWAP (Volume Weighted Average Price)"
   ]
  },
  {
   "cell_type": "code",
   "execution_count": null,
   "id": "f697f341-cf13-4391-a0ad-5b849aab339d",
   "metadata": {},
   "outputs": [],
   "source": [
    "import pandas as pd\n",
    "import numpy as np\n",
    "import matplotlib.pyplot as plt\n",
    "import talib as ta\n",
    "\n",
    "# Load historical data (OHLC data)\n",
    "# Assuming data is loaded in a dataframe 'df' with columns ['date', 'open', 'high', 'low', 'close', 'volume']\n",
    "df = pd.read_excel(\"historical_data.xlsx\")  # Replace with your historical data source\n",
    "\n",
    "# Ensure 'date' column is in datetime format\n",
    "df[\"date\"] = pd.to_datetime(df[\"date\"], errors='coerce')\n",
    "\n",
    "# Drop rows with NaT (invalid date)\n",
    "df = df.dropna(subset=[\"date\"])\n",
    "\n",
    "# Sort data by date\n",
    "df = df.sort_values(by=\"date\").reset_index(drop=True)\n",
    "\n",
    "# Calculate Moving Averages (Short-term & Long-term)\n",
    "df[\"5_MA\"] = df[\"close\"].rolling(window=5).mean()\n",
    "df[\"15_MA\"] = df[\"close\"].rolling(window=15).mean()\n",
    "\n",
    "# Calculate RSI (Relative Strength Index)\n",
    "df[\"RSI\"] = ta.RSI(df[\"close\"], timeperiod=14)\n",
    "\n",
    "# Calculate VWAP (Volume Weighted Average Price)\n",
    "df[\"VWAP\"] = (df[\"close\"] * df[\"volume\"]).cumsum() / df[\"volume\"].cumsum()\n",
    "\n",
    "# Backtesting Variables\n",
    "initial_balance = 10000\n",
    "balance = initial_balance\n",
    "position = None\n",
    "entry_price = None\n",
    "trade_log = []\n",
    "\n",
    "# Backtest Strategy: Buy/Sell based on VWAP and RSI\n",
    "for i in range(1, len(df)):\n",
    "    curr_time = df[\"date\"].iloc[i]\n",
    "    close_price = df[\"close\"].iloc[i]\n",
    "    rsi = df[\"RSI\"].iloc[i]\n",
    "    short_ma = df[\"5_MA\"].iloc[i]\n",
    "    long_ma = df[\"15_MA\"].iloc[i]\n",
    "    vwap = df[\"VWAP\"].iloc[i]\n",
    "    \n",
    "    # Check for Buy Signal\n",
    "    if rsi < 30 and short_ma > long_ma and position != \"Buy\":\n",
    "        position = \"Buy\"\n",
    "        entry_price = close_price\n",
    "        trade_log.append({\"Trade Time\": curr_time, \"Action\": \"Buy\", \"Price\": entry_price})\n",
    "\n",
    "    # Check for Sell Signal\n",
    "    elif rsi > 70 and short_ma < long_ma and position == \"Buy\":\n",
    "        profit_loss = (close_price - entry_price) * 100  # Assuming 100 shares per contract\n",
    "        balance += profit_loss\n",
    "        trade_log.append({\"Trade Time\": curr_time, \"Action\": \"Sell\", \"Price\": close_price, \"Profit/Loss\": profit_loss})\n",
    "        position = None  # Reset position\n",
    "\n",
    "    # Implement target profit and stop loss logic\n",
    "    if position == \"Buy\":\n",
    "        if (close_price - entry_price) >= 0.002 * entry_price:  # Target Profit: 0.2%\n",
    "            profit_loss = (close_price - entry_price) * 100\n",
    "            balance += profit_loss\n",
    "            trade_log.append({\"Trade Time\": curr_time, \"Action\": \"Sell (Target Profit)\", \"Price\": close_price, \"Profit/Loss\": profit_loss})\n",
    "            position = None  # Reset position\n",
    "\n",
    "        elif (entry_price - close_price) >= 0.001 * entry_price:  # Stop Loss: 0.1%\n",
    "            profit_loss = (close_price - entry_price) * 100\n",
    "            balance += profit_loss\n",
    "            trade_log.append({\"Trade Time\": curr_time, \"Action\": \"Sell (Stop Loss)\", \"Price\": close_price, \"Profit/Loss\": profit_loss})\n",
    "            position = None  # Reset position\n",
    "\n",
    "# Convert trade log to DataFrame for review\n",
    "trade_df = pd.DataFrame(trade_log)\n",
    "\n",
    "# Final Balance & Profit Calculation\n",
    "final_balance = balance\n",
    "profit_loss = final_balance - initial_balance\n",
    "\n",
    "# Print Results\n",
    "print(f\"Initial Balance: ₹{initial_balance}\")\n",
    "print(f\"Final Balance: ₹{final_balance:.2f}\")\n",
    "print(f\"Total Profit/Loss: ₹{profit_loss:.2f}\")\n",
    "print(f\"Number of Trades Executed: {len(trade_log)}\")\n",
    "\n",
    "# Display the trade log\n",
    "print(\"\\nTrade Log:\")\n",
    "print(trade_df)\n",
    "\n",
    "# Plot Balance Over Time\n",
    "plt.figure(figsize=(14, 4))\n",
    "balance_over_time = [initial_balance + sum([log.get(\"Profit/Loss\", 0) for log in trade_log[:i]]) for i in range(1, len(trade_log)+1)]\n",
    "plt.plot(balance_over_time, label=\"Account Balance\", color=\"purple\", linestyle=\"-\", marker=\"o\")\n",
    "plt.axhline(y=initial_balance, color=\"gray\", linestyle=\"--\", label=\"Starting Balance\")\n",
    "plt.legend()\n",
    "plt.title(\"Backtest Account Balance Over Time\")\n",
    "plt.xlabel(\"Trades Executed\")\n",
    "plt.ylabel(\"Account Balance (₹)\")\n",
    "plt.grid(True)\n",
    "plt.show()"
   ]
  },
  {
   "cell_type": "code",
   "execution_count": null,
   "id": "0ba20064-c194-45c0-8489-434327efd2c4",
   "metadata": {},
   "outputs": [],
   "source": []
  },
  {
   "cell_type": "code",
   "execution_count": null,
   "id": "7b80db08-f97b-4659-93f3-404360582c39",
   "metadata": {},
   "outputs": [],
   "source": []
  },
  {
   "cell_type": "code",
   "execution_count": null,
   "id": "7dc13e65-4902-4313-b879-9332834a28cb",
   "metadata": {},
   "outputs": [],
   "source": []
  },
  {
   "cell_type": "code",
   "execution_count": null,
   "id": "0da427a4-7ac6-41ec-aaea-45e5c4da9407",
   "metadata": {},
   "outputs": [],
   "source": []
  },
  {
   "cell_type": "code",
   "execution_count": null,
   "id": "6dc2cda0-2e51-4a68-ab0b-c2bbd66d90ca",
   "metadata": {},
   "outputs": [],
   "source": [
    "Moving Average Crossover"
   ]
  },
  {
   "cell_type": "code",
   "execution_count": null,
   "id": "63081f17-a2c2-412c-b155-5e5051c11918",
   "metadata": {},
   "outputs": [],
   "source": [
    "Supertrend"
   ]
  },
  {
   "cell_type": "code",
   "execution_count": null,
   "id": "490a1877-b2d2-4227-8589-b4fe8b6cc9e7",
   "metadata": {},
   "outputs": [],
   "source": [
    "RSI + MACD"
   ]
  },
  {
   "cell_type": "code",
   "execution_count": null,
   "id": "9c7fe9cb-5901-4012-89fe-a00e436549f6",
   "metadata": {},
   "outputs": [],
   "source": [
    "Opening Range Breakout (ORB)"
   ]
  }
 ],
 "metadata": {
  "kernelspec": {
   "display_name": "Python [conda env:base] *",
   "language": "python",
   "name": "conda-base-py"
  },
  "language_info": {
   "codemirror_mode": {
    "name": "ipython",
    "version": 3
   },
   "file_extension": ".py",
   "mimetype": "text/x-python",
   "name": "python",
   "nbconvert_exporter": "python",
   "pygments_lexer": "ipython3",
   "version": "3.12.7"
  },
  "panel-cell-order": [
   "f032cdd4-13ed-41c2-84b1-7f782a07cf28"
  ]
 },
 "nbformat": 4,
 "nbformat_minor": 5
}
